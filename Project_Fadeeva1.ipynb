{
 "cells": [
  {
   "cell_type": "markdown",
   "metadata": {},
   "source": [
    "# Визуализация данных по ДТП в Иркутской области. "
   ]
  },
  {
   "cell_type": "code",
   "execution_count": 5,
   "metadata": {
    "colab": {
     "base_uri": "https://localhost:8080/"
    },
    "id": "EavVjtIFeJk4",
    "outputId": "6a0cd5ed-4406-46d9-b769-edc875eb95b7"
   },
   "outputs": [
    {
     "name": "stdout",
     "output_type": "stream",
     "text": [
      "        id                                               tags  \\\n",
      "0  2614556  [Дорожно-транспортные происшествия, ДТП и пост...   \n",
      "1  2732314                [Дорожно-транспортные происшествия]   \n",
      "2  2604020                [Дорожно-транспортные происшествия]   \n",
      "3  2603233                [Дорожно-транспортные происшествия]   \n",
      "4  2713219  [Дорожно-транспортные происшествия, ДТП и пост...   \n",
      "\n",
      "                                         light  \\\n",
      "0                          Светлое время суток   \n",
      "1  В темное время суток, освещение отсутствует   \n",
      "2  В темное время суток, освещение отсутствует   \n",
      "3  В темное время суток, освещение не включено   \n",
      "4                          Светлое время суток   \n",
      "\n",
      "                                   point  \\\n",
      "0  {'lat': 54.900044, 'long': 99.026245}   \n",
      "1  {'lat': 54.904917, 'long': 99.011149}   \n",
      "2  {'lat': 54.629636, 'long': 99.854393}   \n",
      "3  {'lat': 54.887469, 'long': 99.024893}   \n",
      "4  {'lat': 54.905744, 'long': 99.022962}   \n",
      "\n",
      "                                              nearby               region  \\\n",
      "0  [Остановка общественного транспорта, Нерегулир...  Нижнеудинский район   \n",
      "1                                                 []  Нижнеудинский район   \n",
      "2                                                 []  Нижнеудинский район   \n",
      "3  [Жилые дома индивидуальной застройки, Нерегули...  Нижнеудинский район   \n",
      "4                                                 []  Нижнеудинский район   \n",
      "\n",
      "  scheme                                            address     weather  \\\n",
      "0    930                  г Нижнеудинск, ул Масловского, 16      [Ясно]   \n",
      "1    870                 г Нижнеудинск, ул Западная 3-я, 20  [Пасмурно]   \n",
      "2    830  Р-255 Сибирь Новосибирск - Кемерово - Краснояр...  [Пасмурно]   \n",
      "3    800                 г Нижнеудинск, ул Профсоюзная, 128     [Дождь]   \n",
      "4    060                    г Нижнеудинск, пер Уватский, 12      [Ясно]   \n",
      "\n",
      "                 category  ...     severity  \\\n",
      "0    Наезд на препятствие  ...       Легкий   \n",
      "1       Наезд на пешехода  ...       Легкий   \n",
      "2       Наезд на пешехода  ...  С погибшими   \n",
      "3       Наезд на пешехода  ...       Легкий   \n",
      "4  Наезд на велосипедиста  ...       Легкий   \n",
      "\n",
      "                                            vehicles dead_count  \\\n",
      "0  [ { \"year\": 1995, \"brand\": \"ВАЗ\", \"color\": \"Бе...          0   \n",
      "1  [ { \"year\": 1985, \"brand\": \"ВАЗ\", \"color\": \"Кр...          0   \n",
      "2  [ { \"year\": 2018, \"brand\": \"MAN\", \"color\": \"Бе...          1   \n",
      "3  [ { \"year\": null, \"brand\": null, \"color\": null...          0   \n",
      "4  [ { \"year\": 2017, \"brand\": \"ZOTYE\", \"color\": \"...          0   \n",
      "\n",
      "                                        participants injured_count  \\\n",
      "0                                                [ ]             2   \n",
      "1  [ { \"role\": \"Пешеход\", \"gender\": \"Женский\", \"v...             1   \n",
      "2  [ { \"role\": \"Пешеход\", \"gender\": \"Женский\", \"v...             0   \n",
      "3  [ { \"role\": \"Пешеход\", \"gender\": \"Мужской\", \"v...             1   \n",
      "4                                                [ ]             1   \n",
      "\n",
      "       parent_region                                    road_conditions  \\\n",
      "0  Иркутская область  [Отсутствие элементов обустройства остановочно...   \n",
      "1  Иркутская область     [Иные недостатки, Сухое, Отсутствие освещения]   \n",
      "2  Иркутская область                                            [Сухое]   \n",
      "3  Иркутская область                                           [Мокрое]   \n",
      "4  Иркутская область  [Сухое, Отсутствие, плохая различимость горизо...   \n",
      "\n",
      "  participants_count                participant_categories  \\\n",
      "0                  3                 [Дети, Все участники]   \n",
      "1                  2             [Пешеходы, Все участники]   \n",
      "2                  2             [Пешеходы, Все участники]   \n",
      "3                  2             [Пешеходы, Все участники]   \n",
      "4                  2  [Велосипедисты, Дети, Все участники]   \n",
      "\n",
      "                    geometry  \n",
      "0  POINT (99.02625 54.90004)  \n",
      "1  POINT (99.01115 54.90492)  \n",
      "2  POINT (99.85439 54.62964)  \n",
      "3  POINT (99.02489 54.88747)  \n",
      "4  POINT (99.02296 54.90574)  \n",
      "\n",
      "[5 rows x 21 columns]\n"
     ]
    }
   ],
   "source": [
    "\n",
    "import pandas as pd\n",
    "import json\n",
    "import geopandas as gpd\n",
    "\n",
    "\n",
    "import numpy as np\n",
    "import pandas as pd\n",
    "\n",
    "# Указываем путь к .geojson файлу\n",
    "file_path = 'C:/Users/minot/Desktop/irkutskaia-oblast.geojson'\n",
    "\n",
    "# Используем функцию read_file() для чтения .geojson файла и создания geopandas.GeoDataFrame\n",
    "df = gpd.read_file(file_path)\n",
    "\n",
    "# Выводим первые строки содержимого GeoDataFrame\n",
    "print(df.head())"
   ]
  },
  {
   "cell_type": "code",
   "execution_count": 6,
   "metadata": {
    "id": "g7JobjkFk6C8"
   },
   "outputs": [],
   "source": [
    "\n",
    "data = df.copy()\n",
    "\n",
    "# Извлечение координат и преобразование их в числовой формат\n",
    "data['lat'] = data['point'].apply(lambda x: x['lat'])\n",
    "data['long'] = data['point'].apply(lambda x: x['long'])\n",
    "X = data[['lat', 'long']].fillna(0)\n",
    "\n",
    "\n",
    "#Обрезка данных по координатам Иркутской области \n",
    "data = data[(data['lat'] >= 51) & (data['long'] >= 95)]\n",
    "data = data[(data['lat'] <= 64) & (data['long'] <= 120)]"
   ]
  },
  {
   "cell_type": "markdown",
   "metadata": {},
   "source": [
    "## Вывод данных на карте."
   ]
  },
  {
   "cell_type": "code",
   "execution_count": 9,
   "metadata": {
    "colab": {
     "base_uri": "https://localhost:8080/",
     "height": 667
    },
    "id": "epPamMqzg0fR",
    "outputId": "5903a23d-1935-41a4-d974-ebefd8072262",
    "scrolled": false
   },
   "outputs": [],
   "source": [
    "\n",
    "import plotly.express as px\n",
    "\n",
    "# Вывод карты \n",
    "fig = px.scatter_mapbox(data, lat='lat', lon='long', zoom=5)\n",
    "\n",
    "# Добавление базовой карты, выбор размера карты \n",
    "fig.update_layout(mapbox_style=\"open-street-map\",width = 600, height = 600)"
   ]
  },
  {
   "cell_type": "markdown",
   "metadata": {},
   "source": [
    "## Вывод карты с классификацией по тяжести ДТП. Вывод всплывающего окна при наведеннии. "
   ]
  },
  {
   "cell_type": "code",
   "execution_count": null,
   "metadata": {
    "colab": {
     "base_uri": "https://localhost:8080/",
     "height": 667
    },
    "id": "v6qMW6QKnQDM",
    "outputId": "ab9296a7-4e04-4920-f393-007db3044d3d"
   },
   "outputs": [],
   "source": [
    "#Классификация цвета данных по тяжести ДТП\n",
    "fig = px.scatter_mapbox(data, lat='lat', lon='long', color='severity', zoom=5, custom_data=['dead_count', 'participants_count', 'injured_count', 'light', 'weather', 'road_conditions', 'severity'])\n",
    "\n",
    "fig.update_layout(mapbox_style=\"open-street-map\", width=600, height=600)\n",
    "#Вывод данных в всплывающем окне \n",
    "fig.update_traces(hovertemplate=\"<b>Dead count</b>: %{customdata[0]}<br><b>Participants count</b>: %{customdata[1]}<br><b>Injured count</b>: %{customdata[2]}<br><b>Weather</b>: %{customdata[4]}<br><b>Road conditions</b>: %{customdata[5]}<br><b>Severity</b>: %{customdata[6]}\")\n",
    "\n",
    "fig.show()"
   ]
  }
 ],
 "metadata": {
  "colab": {
   "provenance": []
  },
  "kernelspec": {
   "display_name": "Python 3 (ipykernel)",
   "language": "python",
   "name": "python3"
  },
  "language_info": {
   "codemirror_mode": {
    "name": "ipython",
    "version": 3
   },
   "file_extension": ".py",
   "mimetype": "text/x-python",
   "name": "python",
   "nbconvert_exporter": "python",
   "pygments_lexer": "ipython3",
   "version": "3.11.5"
  }
 },
 "nbformat": 4,
 "nbformat_minor": 1
}
